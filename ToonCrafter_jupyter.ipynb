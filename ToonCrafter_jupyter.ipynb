{
  "cells": [
    {
      "cell_type": "markdown",
      "metadata": {
        "id": "view-in-github",
        "colab_type": "text"
      },
      "source": [
        "<a href=\"https://colab.research.google.com/github/makishev/packages/blob/main/ToonCrafter_jupyter.ipynb\" target=\"_parent\"><img src=\"https://colab.research.google.com/assets/colab-badge.svg\" alt=\"Open In Colab\"/></a>"
      ]
    },
    {
      "cell_type": "code",
      "execution_count": null,
      "metadata": {
        "id": "VjYy0F2gZIPR",
        "colab": {
          "base_uri": "https://localhost:8080/"
        },
        "outputId": "1b3e9e1b-e169-42ed-a0a3-11588ac4d409"
      },
      "outputs": [
        {
          "output_type": "stream",
          "name": "stdout",
          "text": [
            "/content\n",
            "fatal: destination path 'ToonCrafter' already exists and is not an empty directory.\n",
            "/content/ToonCrafter\n",
            "aria2 is already the newest version (1.36.0-1).\n",
            "0 upgraded, 0 newly installed, 0 to remove and 35 not upgraded.\n",
            "\n",
            "Download Results:\n",
            "gid   |stat|avg speed  |path/URI\n",
            "======+====+===========+=======================================================\n",
            "0babe8|\u001b[1;32mOK\u001b[0m  |       0B/s|/content/ToonCrafter/checkpoints/tooncrafter_512_interp_v1/model.ckpt\n",
            "\n",
            "Status Legend:\n",
            "(OK):download completed.\n",
            "Collecting decord==0.6.0 (from -r requirements.txt (line 1))\n",
            "  Using cached decord-0.6.0-py3-none-manylinux2010_x86_64.whl.metadata (422 bytes)\n",
            "Collecting einops==0.3.0 (from -r requirements.txt (line 2))\n",
            "  Using cached einops-0.3.0-py2.py3-none-any.whl.metadata (10 kB)\n",
            "Collecting imageio==2.9.0 (from -r requirements.txt (line 3))\n",
            "  Using cached imageio-2.9.0-py3-none-any.whl.metadata (2.6 kB)\n"
          ]
        }
      ],
      "source": [
        "%cd /content\n",
        "!git clone -b dev https://github.com/camenduru/ToonCrafter\n",
        "%cd /content/ToonCrafter\n",
        "\n",
        "!apt -y install -qq aria2\n",
        "!aria2c --console-log-level=error -c -x 16 -s 16 -k 1M https://huggingface.co/camenduru/ToonCrafter/resolve/main/model.ckpt -d /content/ToonCrafter/checkpoints/tooncrafter_512_interp_v1 -o model.ckpt\n",
        "# !aria2c --console-log-level=error -c -x 16 -s 16 -k 1M https://huggingface.co/camenduru/ToonCrafter/resolve/main/model_fp16.ckpt -d /content/ToonCrafter/checkpoints/tooncrafter_512_interp_v1 -o model.ckpt\n",
        "\n",
        "!pip install -r requirements.txt\n",
        "!pip install einops -U\n",
        "!pip uninstall keras -y\n",
        "# !pip install -r https://github.com/camenduru/ToonCrafter-jupyter/raw/main/requirements_dev.txt\n",
        "\n",
        "!python gradio_app.py"
      ]
    }
  ],
  "metadata": {
    "accelerator": "GPU",
    "colab": {
      "gpuType": "T4",
      "provenance": [],
      "include_colab_link": true
    },
    "kernelspec": {
      "display_name": "Python 3",
      "name": "python3"
    },
    "language_info": {
      "name": "python"
    }
  },
  "nbformat": 4,
  "nbformat_minor": 0
}